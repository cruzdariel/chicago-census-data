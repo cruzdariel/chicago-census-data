{
 "cells": [
  {
   "cell_type": "code",
   "execution_count": 4,
   "metadata": {},
   "outputs": [],
   "source": [
    "import pandas as pd\n",
    "import requests"
   ]
  },
  {
   "cell_type": "code",
   "execution_count": 13,
   "metadata": {},
   "outputs": [
    {
     "name": "stdout",
     "output_type": "stream",
     "text": [
      "200\n"
     ]
    }
   ],
   "source": [
    "response = requests.get('https://randomuser.me/api')\n",
    "print(response.status_code)\n",
    "responsejson = response.json()['results']"
   ]
  },
  {
   "cell_type": "code",
   "execution_count": 14,
   "metadata": {},
   "outputs": [
    {
     "data": {
      "text/plain": [
       "[{'gender': 'female',\n",
       "  'name': {'title': 'Miss', 'first': 'Rashmitha', 'last': 'Gugale'},\n",
       "  'location': {'street': {'number': 5161, 'name': 'Pali Hill'},\n",
       "   'city': 'Rajahmundry',\n",
       "   'state': 'Chandigarh',\n",
       "   'country': 'India',\n",
       "   'postcode': 91448,\n",
       "   'coordinates': {'latitude': '12.0981', 'longitude': '127.2895'},\n",
       "   'timezone': {'offset': '-9:00', 'description': 'Alaska'}},\n",
       "  'email': 'rashmitha.gugale@example.com',\n",
       "  'login': {'uuid': '95318ac2-e8f4-484b-9ef2-8c68984a96a4',\n",
       "   'username': 'bluelion798',\n",
       "   'password': 'wordup',\n",
       "   'salt': 'G7rHqSK4',\n",
       "   'md5': 'eaa5be3c6bf092200c6fa27e9f3145a8',\n",
       "   'sha1': '65ab274eb539064a350de24278348ee18987762c',\n",
       "   'sha256': '5eb60b9f7cdd5e3d38d1bb0a9ee1bf2ab8968f61de9154f0da5a1604afbbb841'},\n",
       "  'dob': {'date': '1969-03-27T20:41:40.133Z', 'age': 55},\n",
       "  'registered': {'date': '2012-06-24T06:57:36.729Z', 'age': 11},\n",
       "  'phone': '8266362815',\n",
       "  'cell': '8366312376',\n",
       "  'id': {'name': 'UIDAI', 'value': '781453241448'},\n",
       "  'picture': {'large': 'https://randomuser.me/api/portraits/women/55.jpg',\n",
       "   'medium': 'https://randomuser.me/api/portraits/med/women/55.jpg',\n",
       "   'thumbnail': 'https://randomuser.me/api/portraits/thumb/women/55.jpg'},\n",
       "  'nat': 'IN'}]"
      ]
     },
     "execution_count": 14,
     "metadata": {},
     "output_type": "execute_result"
    }
   ],
   "source": [
    "responsejson"
   ]
  },
  {
   "cell_type": "code",
   "execution_count": 18,
   "metadata": {},
   "outputs": [],
   "source": [
    "df = pd.DataFrame.from_dict(responsejson)"
   ]
  },
  {
   "cell_type": "code",
   "execution_count": 19,
   "metadata": {},
   "outputs": [
    {
     "data": {
      "text/html": [
       "<div>\n",
       "<style scoped>\n",
       "    .dataframe tbody tr th:only-of-type {\n",
       "        vertical-align: middle;\n",
       "    }\n",
       "\n",
       "    .dataframe tbody tr th {\n",
       "        vertical-align: top;\n",
       "    }\n",
       "\n",
       "    .dataframe thead th {\n",
       "        text-align: right;\n",
       "    }\n",
       "</style>\n",
       "<table border=\"1\" class=\"dataframe\">\n",
       "  <thead>\n",
       "    <tr style=\"text-align: right;\">\n",
       "      <th></th>\n",
       "      <th>gender</th>\n",
       "      <th>name</th>\n",
       "      <th>location</th>\n",
       "      <th>email</th>\n",
       "      <th>login</th>\n",
       "      <th>dob</th>\n",
       "      <th>registered</th>\n",
       "      <th>phone</th>\n",
       "      <th>cell</th>\n",
       "      <th>id</th>\n",
       "      <th>picture</th>\n",
       "      <th>nat</th>\n",
       "    </tr>\n",
       "  </thead>\n",
       "  <tbody>\n",
       "    <tr>\n",
       "      <th>0</th>\n",
       "      <td>female</td>\n",
       "      <td>{'title': 'Miss', 'first': 'Rashmitha', 'last'...</td>\n",
       "      <td>{'street': {'number': 5161, 'name': 'Pali Hill...</td>\n",
       "      <td>rashmitha.gugale@example.com</td>\n",
       "      <td>{'uuid': '95318ac2-e8f4-484b-9ef2-8c68984a96a4...</td>\n",
       "      <td>{'date': '1969-03-27T20:41:40.133Z', 'age': 55}</td>\n",
       "      <td>{'date': '2012-06-24T06:57:36.729Z', 'age': 11}</td>\n",
       "      <td>8266362815</td>\n",
       "      <td>8366312376</td>\n",
       "      <td>{'name': 'UIDAI', 'value': '781453241448'}</td>\n",
       "      <td>{'large': 'https://randomuser.me/api/portraits...</td>\n",
       "      <td>IN</td>\n",
       "    </tr>\n",
       "  </tbody>\n",
       "</table>\n",
       "</div>"
      ],
      "text/plain": [
       "   gender                                               name  \\\n",
       "0  female  {'title': 'Miss', 'first': 'Rashmitha', 'last'...   \n",
       "\n",
       "                                            location  \\\n",
       "0  {'street': {'number': 5161, 'name': 'Pali Hill...   \n",
       "\n",
       "                          email  \\\n",
       "0  rashmitha.gugale@example.com   \n",
       "\n",
       "                                               login  \\\n",
       "0  {'uuid': '95318ac2-e8f4-484b-9ef2-8c68984a96a4...   \n",
       "\n",
       "                                               dob  \\\n",
       "0  {'date': '1969-03-27T20:41:40.133Z', 'age': 55}   \n",
       "\n",
       "                                        registered       phone        cell  \\\n",
       "0  {'date': '2012-06-24T06:57:36.729Z', 'age': 11}  8266362815  8366312376   \n",
       "\n",
       "                                           id  \\\n",
       "0  {'name': 'UIDAI', 'value': '781453241448'}   \n",
       "\n",
       "                                             picture nat  \n",
       "0  {'large': 'https://randomuser.me/api/portraits...  IN  "
      ]
     },
     "execution_count": 19,
     "metadata": {},
     "output_type": "execute_result"
    }
   ],
   "source": [
    "df.head()"
   ]
  },
  {
   "cell_type": "code",
   "execution_count": null,
   "metadata": {},
   "outputs": [],
   "source": []
  }
 ],
 "metadata": {
  "kernelspec": {
   "display_name": "Python 3",
   "language": "python",
   "name": "python3"
  },
  "language_info": {
   "codemirror_mode": {
    "name": "ipython",
    "version": 3
   },
   "file_extension": ".py",
   "mimetype": "text/x-python",
   "name": "python",
   "nbconvert_exporter": "python",
   "pygments_lexer": "ipython3",
   "version": "3.11.7"
  }
 },
 "nbformat": 4,
 "nbformat_minor": 2
}
